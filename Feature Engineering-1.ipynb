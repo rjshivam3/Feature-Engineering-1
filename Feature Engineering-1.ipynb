{
 "cells": [
  {
   "cell_type": "markdown",
   "id": "1a074092-5150-401a-b300-63cb40c48711",
   "metadata": {},
   "source": [
    "### Q1: What are missing values in a dataset? Why is it essential to handle missing values? Name some algorithms that are not affected by missing values.\n",
    "\n",
    "**Missing values** are data points where no value is stored for the variable in a given observation. It is essential to handle missing values because they can lead to biased estimates, reduce the efficiency of the model, and can lead to invalid conclusions if not properly handled.\n",
    "\n",
    "**Algorithms not affected by missing values:**\n",
    "- Decision Trees\n",
    "- Random Forests\n",
    "- Gradient Boosting Machines (like XGBoost, LightGBM)\n",
    "- k-Nearest Neighbors (can work with missing values if properly handled)"
   ]
  },
  {
   "cell_type": "markdown",
   "id": "ce7a6560-689a-4acf-af72-8a0faec588de",
   "metadata": {},
   "source": [
    "### Q2: List down techniques used to handle missing data. Give an example of each with python code.\n",
    "\n",
    "**Techniques to handle missing data:**\n",
    "1. **Removal:**\n",
    "    - Remove rows or columns with missing values."
   ]
  },
  {
   "cell_type": "code",
   "execution_count": 4,
   "id": "301d732d-a361-46dd-85d0-9c843537d260",
   "metadata": {},
   "outputs": [],
   "source": [
    "import pandas as pd\n",
    "df = pd.DataFrame({'A': [1, 2, None], 'B': [4, None, 6]})\n",
    "df_dropped = df.dropna()\n"
   ]
  },
  {
   "cell_type": "markdown",
   "id": "41e46136-0566-4cdd-9a59-9d2967ab23d6",
   "metadata": {},
   "source": [
    "2. **Imputation:**\n",
    "    - Fill missing values with mean, median, mode, or other values."
   ]
  },
  {
   "cell_type": "code",
   "execution_count": 5,
   "id": "f24a14e4-7e6e-43ce-8f70-89d61983ed53",
   "metadata": {},
   "outputs": [],
   "source": [
    "df_filled = df.fillna(df.mean())\n"
   ]
  },
  {
   "cell_type": "markdown",
   "id": "1aa79deb-98e4-407c-ae8a-5eaea6c23220",
   "metadata": {},
   "source": [
    "**Interpolation:**\n",
    "    - Estimate missing values using interpolation."
   ]
  },
  {
   "cell_type": "code",
   "execution_count": 7,
   "id": "30ad0263-cb79-4832-b4c3-1288af189a01",
   "metadata": {},
   "outputs": [],
   "source": [
    "df_interpolated = df.interpolate()"
   ]
  },
  {
   "cell_type": "markdown",
   "id": "5c77ced4-a15b-40ba-9451-a668554edf1c",
   "metadata": {},
   "source": [
    "### Q3: Explain the imbalanced data. What will happen if imbalanced data is not handled?\n",
    "\n",
    "**Imbalanced data** occurs when the classes in a classification problem are not represented equally. If imbalanced data is not handled, it can lead to a model that is biased towards the majority class, resulting in poor performance on the minority class, which is often the class of interest.\n"
   ]
  },
  {
   "cell_type": "markdown",
   "id": "b3d6cd32-3002-4e02-82b4-4a600ff2e7e5",
   "metadata": {},
   "source": [
    "### Q4: What are Up-sampling and Down-sampling? Explain with an example when up-sampling and down-sampling are required.\n",
    "\n",
    "**Up-sampling** is the process of increasing the number of instances in the minority class to match the majority class.\n",
    "\n",
    "**Down-sampling** is the process of reducing the number of instances in the majority class to match the minority class.\n",
    "\n",
    "**Example:**\n",
    "- Up-sampling:\n",
    "\n",
    "    ```python\n",
    "    from sklearn.utils import resample\n",
    "    minority_upsampled = resample(minority_class, replace=True, n_samples=len(majority_class))\n",
    "    ```\n",
    "\n",
    "- Down-sampling:\n",
    "\n",
    "    ```python\n",
    "    majority_downsampled = resample(majority_class, replace=False, n_samples=len(minority_class))\n",
    "    ```\n",
    "\n",
    "Up-sampling and down-sampling are required when dealing with imbalanced datasets to ensure the model does not become biased towards the majority class.\n"
   ]
  },
  {
   "cell_type": "markdown",
   "id": "22d6fdc4-5c8d-4c58-9faf-947e7ba70bfa",
   "metadata": {},
   "source": [
    "### Q5: What is data Augmentation? Explain SMOTE.\n",
    "\n",
    "**Data Augmentation** involves creating new data points from existing data to increase the size and variability of the dataset.\n",
    "\n",
    "**SMOTE (Synthetic Minority Over-sampling Technique):** It creates synthetic examples of the minority class by interpolating between existing minority instances.\n",
    "\n",
    "```python\n",
    "from imblearn.over_sampling import SMOTE\n",
    "smote = SMOTE()\n",
    "X_res, y_res = smote.fit_resample(X, y)\n"
   ]
  },
  {
   "cell_type": "markdown",
   "id": "494de42d-616d-48c1-b1b5-8d730d914eb7",
   "metadata": {},
   "source": [
    "### Q6: What are outliers in a dataset? Why is it essential to handle outliers?\n",
    "\n",
    "**Outliers** are data points that are significantly different from other observations in the dataset. Handling outliers is essential because they can skew the results of the analysis and affect the performance of machine learning models.\n"
   ]
  },
  {
   "cell_type": "markdown",
   "id": "424c2cf1-b0b7-4348-a7fc-7bbc8e0c320c",
   "metadata": {},
   "source": [
    "### Q7: You are working on a project that requires analyzing customer data. However, you notice that some of the data is missing. What are some techniques you can use to handle the missing data in your analysis?\n",
    "\n",
    "Techniques to handle missing data:\n",
    "1. **Remove missing values:**\n",
    "    - Drop rows or columns with missing data.\n",
    "2. **Imputation:**\n",
    "    - Fill missing values with mean, median, or mode.\n",
    "3. **Predictive modeling:**\n",
    "    - Use models to predict missing values.\n",
    "4. **Use algorithms that handle missing values:**\n",
    "    - Use models that can work with missing values directly.\n"
   ]
  },
  {
   "cell_type": "markdown",
   "id": "b53b46ba-44b5-4fd7-9c78-2df45baf01b0",
   "metadata": {},
   "source": [
    "### Q8: You are working with a large dataset and find that a small percentage of the data is missing. What are some strategies you can use to determine if the missing data is missing at random or if there is a pattern to the missing data?\n",
    "\n",
    "**Strategies to determine missing data patterns:**\n",
    "1. **Visual inspection:**\n",
    "    - Use plots like heatmaps to identify patterns.\n",
    "    ```python\n",
    "    import seaborn as sns\n",
    "    sns.heatmap(df.isnull(), cbar=False)\n",
    "    ```\n",
    "2. **Statistical tests:**\n",
    "    - Use tests like Little's MCAR test to check if data is missing completely at random.\n",
    "3. **Correlation analysis:**\n",
    "    - Check for correlations between missing values and other variables.\n"
   ]
  },
  {
   "cell_type": "markdown",
   "id": "662ebaea-dfc4-4b51-ad62-877afb998386",
   "metadata": {},
   "source": [
    "### Q9: Suppose you are working on a medical diagnosis project and find that the majority of patients in the dataset do not have the condition of interest, while a small percentage do. What are some strategies you can use to evaluate the performance of your machine learning model on this imbalanced dataset?\n",
    "\n",
    "**Strategies to evaluate model performance on imbalanced data:**\n",
    "1. **Confusion matrix:**\n",
    "    - Analyze TP, TN, FP, FN.\n",
    "2. **Precision-Recall curve:**\n",
    "    - Evaluate precision and recall trade-offs.\n",
    "3. **ROC-AUC score:**\n",
    "    - Measure the area under the ROC curve.\n",
    "4. **Use appropriate metrics:**\n",
    "    - Focus on metrics like F1-score, precision, recall, rather than accuracy.\n"
   ]
  },
  {
   "cell_type": "markdown",
   "id": "329972fc-8eca-4f47-887a-1713ae245160",
   "metadata": {},
   "source": [
    "### Q10: When attempting to estimate customer satisfaction for a project, you discover that the dataset is unbalanced, with the bulk of customers reporting being satisfied. What methods can you employ to balance the dataset and down-sample the majority class?\n",
    "\n",
    "**Methods to balance the dataset:**\n",
    "1. **Down-sampling the majority class:**\n",
    "    - Reduce the number of satisfied customers to match the number of unsatisfied customers.\n",
    "    ```python\n",
    "    from sklearn.utils import resample\n",
    "    majority_downsampled = resample(majority_class, replace=False, n_samples=len(minority_class))\n",
    "    ```\n",
    "2. **Up-sampling the minority class:**\n",
    "    - Increase the number of unsatisfied customers by duplicating them.\n",
    "3. **SMOTE:**\n",
    "    - Use SMOTE to create synthetic examples of the minority class.\n"
   ]
  },
  {
   "cell_type": "markdown",
   "id": "da691293-54a5-4fac-b10b-35c2aa0dd1bb",
   "metadata": {},
   "source": [
    "### Q11: You discover that the dataset is unbalanced with a low percentage of occurrences while working on a project that requires you to estimate the occurrence of a rare event. What methods can you employ to balance the dataset and up-sample the minority class?\n",
    "\n",
    "**Methods to up-sample the minority class:**\n",
    "1. **SMOTE:**\n",
    "    - Create synthetic examples of the minority class.\n",
    "    ```python\n",
    "    from imblearn.over_sampling import SMOTE\n",
    "    smote = SMOTE()\n",
    "    X_res, y_res = smote.fit_resample(X, y)\n",
    "    ```\n",
    "2. **Random over-sampling:**\n",
    "    - Duplicate existing minority class examples.\n",
    "    ```python\n",
    "    minority_upsampled = resample(minority_class, replace=True, n_samples=len(majority_class))\n",
    "    ```\n",
    "3. **Adaptive synthetic sampling (ADASYN):**\n",
    "    - Create synthetic examples considering density distribution of minority class.\n"
   ]
  },
  {
   "cell_type": "code",
   "execution_count": null,
   "id": "3026b028-1ff4-42f6-acce-00ebb5f906f1",
   "metadata": {},
   "outputs": [],
   "source": []
  }
 ],
 "metadata": {
  "kernelspec": {
   "display_name": "Python 3 (ipykernel)",
   "language": "python",
   "name": "python3"
  },
  "language_info": {
   "codemirror_mode": {
    "name": "ipython",
    "version": 3
   },
   "file_extension": ".py",
   "mimetype": "text/x-python",
   "name": "python",
   "nbconvert_exporter": "python",
   "pygments_lexer": "ipython3",
   "version": "3.10.8"
  }
 },
 "nbformat": 4,
 "nbformat_minor": 5
}
